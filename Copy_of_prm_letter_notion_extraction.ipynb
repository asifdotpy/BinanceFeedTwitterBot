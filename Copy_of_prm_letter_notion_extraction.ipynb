{
  "nbformat": 4,
  "nbformat_minor": 0,
  "metadata": {
    "colab": {
      "provenance": [],
      "mount_file_id": "1tZUCDiHWttDNQJbPJhDEI9pqOC9argj3",
      "authorship_tag": "ABX9TyPWkJd1HWrXdbySh78EOFct",
      "include_colab_link": true
    },
    "kernelspec": {
      "name": "python3",
      "display_name": "Python 3"
    },
    "language_info": {
      "name": "python"
    }
  },
  "cells": [
    {
      "cell_type": "markdown",
      "metadata": {
        "id": "view-in-github",
        "colab_type": "text"
      },
      "source": [
        "<a href=\"https://colab.research.google.com/github/asifdotpy/BinanceFeedTwitterBot/blob/main/Copy_of_prm_letter_notion_extraction.ipynb\" target=\"_parent\"><img src=\"https://colab.research.google.com/assets/colab-badge.svg\" alt=\"Open In Colab\"/></a>"
      ]
    },
    {
      "cell_type": "markdown",
      "metadata": {
        "id": "de2946a9"
      },
      "source": [
        "## Display structure\n",
        "\n",
        "### Subtask:\n",
        "Display the mapped directory structure.\n"
      ]
    },
    {
      "cell_type": "code",
      "metadata": {
        "id": "017de009",
        "colab": {
          "base_uri": "https://localhost:8080/"
        },
        "outputId": "3a63237b-8940-4179-a7ad-a5f6307f3472"
      },
      "source": [
        "# Install the unrar tool\n",
        "!apt-get install unrar"
      ],
      "execution_count": null,
      "outputs": [
        {
          "output_type": "stream",
          "name": "stdout",
          "text": [
            "Reading package lists... Done\n",
            "Building dependency tree... Done\n",
            "Reading state information... Done\n",
            "unrar is already the newest version (1:6.1.5-1ubuntu0.1).\n",
            "0 upgraded, 0 newly installed, 0 to remove and 35 not upgraded.\n"
          ]
        }
      ]
    },
    {
      "cell_type": "markdown",
      "source": [
        "## First structured script\n"
      ],
      "metadata": {
        "id": "sf6hoMy91han"
      }
    },
    {
      "cell_type": "code",
      "source": [
        "import os\n",
        "import subprocess\n",
        "import zipfile\n",
        "\n",
        "def notion_export():\n",
        "    \"\"\"\n",
        "    Identifies the latest zip file in the Google Drive PRM directory.\n",
        "    Assumes Google Drive is mounted at /content/drive.\n",
        "    \"\"\"\n",
        "    drive_dir = \"/content/drive/MyDrive/PRM/\"\n",
        "    try:\n",
        "        files = os.listdir(drive_dir)\n",
        "        if not files:\n",
        "            print(f\"No files found in {drive_dir}\")\n",
        "            return None\n",
        "\n",
        "        latest_file = None\n",
        "        latest_time = 0\n",
        "\n",
        "        for file in files:\n",
        "            file_path = os.path.join(drive_dir, file)\n",
        "            if file.endswith('.zip'): # Ensure we only consider zip files\n",
        "                mtime = os.path.getmtime(file_path)\n",
        "                if mtime > latest_time:\n",
        "                    latest_time = mtime\n",
        "                    latest_file = file_path\n",
        "\n",
        "        if latest_file:\n",
        "            print(f\"Latest zip file found: {latest_file}\")\n",
        "            return latest_file\n",
        "        else:\n",
        "            print(f\"Could not determine the latest zip file in {drive_dir}\")\n",
        "            return None\n",
        "\n",
        "    except FileNotFoundError:\n",
        "        print(f\"Error: Directory not found at {drive_dir}. Make sure Google Drive is mounted and the path is correct.\")\n",
        "        return None\n",
        "    except Exception as e:\n",
        "        print(f\"An error occurred: {e}\")\n",
        "        return None\n",
        "\n",
        "notion_export()"
      ],
      "metadata": {
        "colab": {
          "base_uri": "https://localhost:8080/",
          "height": 90
        },
        "id": "vKMeDxeb1t02",
        "outputId": "86c3af1b-c1f1-4f73-abb1-e2e592af759e"
      },
      "execution_count": null,
      "outputs": [
        {
          "output_type": "stream",
          "name": "stdout",
          "text": [
            "Latest zip file found: /content/drive/MyDrive/PRM/d426b22c-7b6a-43c1-b9d9-97fb7604ede3_Export-d5ac4479-6dcd-4f90-9223-47cad57998ae.zip\n"
          ]
        },
        {
          "output_type": "execute_result",
          "data": {
            "text/plain": [
              "'/content/drive/MyDrive/PRM/d426b22c-7b6a-43c1-b9d9-97fb7604ede3_Export-d5ac4479-6dcd-4f90-9223-47cad57998ae.zip'"
            ],
            "application/vnd.google.colaboratory.intrinsic+json": {
              "type": "string"
            }
          },
          "metadata": {},
          "execution_count": 23
        }
      ]
    },
    {
      "cell_type": "markdown",
      "source": [
        "## Extract nested zip"
      ],
      "metadata": {
        "id": "QElmb5cH2fJe"
      }
    },
    {
      "cell_type": "code",
      "source": [
        "def extract_nested_zip(zip_file_path, extraction_base_dir):\n",
        "    \"\"\"\n",
        "    Extracts a zip file, then checks if it contains another zip file\n",
        "    and extracts that as well into a new subdirectory.\n",
        "    \"\"\"\n",
        "    if not zip_file_path or not os.path.exists(zip_file_path):\n",
        "        print(f\"Error: ZIP file not found at {zip_file_path}\")\n",
        "        return None\n",
        "\n",
        "    first_extraction_dir = os.path.join(extraction_base_dir, \"first_level_extract\")\n",
        "    os.makedirs(first_extraction_dir, exist_ok=True)\n",
        "\n",
        "    print(f\"Extracting {zip_file_path} to {first_extraction_dir}...\")\n",
        "    try:\n",
        "        with zipfile.ZipFile(zip_file_path, 'r') as zip_ref:\n",
        "            zip_ref.extractall(first_extraction_dir)\n",
        "        print(\"First-level ZIP file extracted successfully.\")\n",
        "    except Exception as e:\n",
        "        print(f\"Error during first-level ZIP extraction: {e}\")\n",
        "        return None\n",
        "\n",
        "    # Check for nested zip files\n",
        "    nested_zip_file = None\n",
        "    for root, _, files in os.walk(first_extraction_dir):\n",
        "        for file in files:\n",
        "            if file.endswith('.zip'):\n",
        "                nested_zip_file = os.path.join(root, file)\n",
        "                break\n",
        "        if nested_zip_file:\n",
        "            break\n",
        "\n",
        "    if nested_zip_file:\n",
        "        second_extraction_dir = os.path.join(extraction_base_dir, \"second_level_extract\")\n",
        "        os.makedirs(second_extraction_dir, exist_ok=True)\n",
        "        print(f\"Found nested ZIP file: {nested_zip_file}. Extracting to {second_extraction_dir}...\")\n",
        "        try:\n",
        "            with zipfile.ZipFile(nested_zip_file, 'r') as zip_ref:\n",
        "                zip_ref.extractall(second_extraction_dir)\n",
        "            print(\"Nested ZIP file extracted successfully.\")\n",
        "            return second_extraction_dir\n",
        "        except Exception as e:\n",
        "            print(f\"Error during nested ZIP extraction: {e}\")\n",
        "            return None\n",
        "    else:\n",
        "        print(\"No nested ZIP file found.\")\n",
        "        return first_extraction_dir # Return the first level if no nested zip\n",
        "\n",
        "extract_nested_zip(latest_zip_file, \"/content\")"
      ],
      "metadata": {
        "colab": {
          "base_uri": "https://localhost:8080/",
          "height": 125
        },
        "id": "hmEUv8pU2Gca",
        "outputId": "4f66c5d4-b68e-4a58-9b43-e6b2a8350d01"
      },
      "execution_count": null,
      "outputs": [
        {
          "output_type": "stream",
          "name": "stdout",
          "text": [
            "Extracting /content/drive/MyDrive/PRM/d426b22c-7b6a-43c1-b9d9-97fb7604ede3_Export-d5ac4479-6dcd-4f90-9223-47cad57998ae.zip to /content/first_level_extract...\n",
            "First-level ZIP file extracted successfully.\n",
            "Found nested ZIP file: /content/first_level_extract/Export-d5ac4479-6dcd-4f90-9223-47cad57998ae-Part-1.zip. Extracting to /content/second_level_extract...\n",
            "Nested ZIP file extracted successfully.\n"
          ]
        },
        {
          "output_type": "execute_result",
          "data": {
            "text/plain": [
              "'/content/second_level_extract'"
            ],
            "application/vnd.google.colaboratory.intrinsic+json": {
              "type": "string"
            }
          },
          "metadata": {},
          "execution_count": 24
        }
      ]
    },
    {
      "cell_type": "markdown",
      "source": [
        "## Get all .md files"
      ],
      "metadata": {
        "id": "ShLgqvce3BDh"
      }
    },
    {
      "cell_type": "code",
      "source": [
        "import os\n",
        "\n",
        "def get_md_files(startpath):\n",
        "    \"\"\"Recursively finds all .md files in a directory.\"\"\"\n",
        "    md_files = []\n",
        "    for root, _, files in os.walk(startpath):\n",
        "        for file in files:\n",
        "            if file.endswith(\".md\"):\n",
        "                md_files.append(os.path.join(root, file))\n",
        "    return md_files\n",
        "\n",
        "# Assuming the nested zip was extracted to /content/second_level_extract\n",
        "extraction_dir = \"/content/second_level_extract\"\n",
        "md_files = get_md_files(extraction_dir)\n",
        "\n",
        "print(\"List of .md files:\")\n",
        "for file_path in md_files:\n",
        "    print(file_path)"
      ],
      "metadata": {
        "colab": {
          "base_uri": "https://localhost:8080/"
        },
        "id": "fQHeOtPh3DjV",
        "outputId": "6faf1978-8551-475c-a287-bf2fb7527b76"
      },
      "execution_count": 1,
      "outputs": [
        {
          "output_type": "stream",
          "name": "stdout",
          "text": [
            "List of .md files:\n"
          ]
        }
      ]
    },
    {
      "cell_type": "markdown",
      "source": [
        "## Categorize the .md files"
      ],
      "metadata": {
        "id": "vGS5wj5c3jAO"
      }
    },
    {
      "cell_type": "code",
      "source": [
        "def categorize_md_file(filename):\n",
        "    \"\"\"Categorizes an MD file based on its filename.\"\"\"\n",
        "    filename_lower = filename.lower()\n",
        "    categories = []\n",
        "\n",
        "    # Updated categorization based on observed filenames and common patterns\n",
        "\n",
        "    # Legal/Case related keywords\n",
        "    if any(keyword in filename_lower for keyword in ['case', 'arrest', 'abduct', 'detention', 'complaint', 'issue', 'attacked', 'death', 'kurban', 'legal']):\n",
        "        categories.append('legal/case related')\n",
        "\n",
        "    # Personal/Account related keywords\n",
        "    if any(keyword in filename_lower for keyword in ['account', 'loan', 'aziz', 'binance', 'archive', 'accessories', 'personal']):\n",
        "        categories.append('personal/account related')\n",
        "\n",
        "    # Project/Work related keywords (including AI, prompts, development)\n",
        "    if any(keyword in filename_lower for keyword in ['project', 'work', 'lab', 'system prompts', 'ai prompts', 'talent acquisition', 'job platform', 'interview question', 'arc dev', 'chatbot', 'ai', 'research', 'proposal', 'tool integration', 'feature request', 'design', 'build', 'roadmap', 'white paper', 'game idea', 'prompt idea', 'documentation', 'marketing strategy', 'data room', 'github', 'kanban', 'task', 'wireframes', 'tests', 'visuals', 'iconography', 'technical spec', 'user feedback', 'optimize', 'brainstorm', 'deploy', 'validate', 'implement', 'integrate', 'user testing', 'website', 'app', 'employee training', 'user support']):\n",
        "        categories.append('project/work related')\n",
        "\n",
        "    # Communication/Social Media related keywords\n",
        "    if any(keyword in filename_lower for keyword in ['facebook', 'social media', 'bbc', 'communication', 'advertisement', 'marketing']):\n",
        "        categories.append('communication/social media related')\n",
        "\n",
        "    # Calendar/Event related keywords\n",
        "    if any(keyword in filename_lower for keyword in ['calendar', '@june', '@may', 'event']):\n",
        "        categories.append('calendar/event related')\n",
        "\n",
        "    # Bihari Community related keywords\n",
        "    if any(keyword in filename_lower for keyword in ['bihari', 'community', 'forgotten ones']):\n",
        "        categories.append('bihari community')\n",
        "\n",
        "    # Catch-all for files not matching specific categories\n",
        "    if not categories:\n",
        "        categories.append('miscellaneous')\n",
        "    return categories"
      ],
      "metadata": {
        "id": "1mOJtVjE3HXe"
      },
      "execution_count": null,
      "outputs": []
    },
    {
      "cell_type": "code",
      "metadata": {
        "id": "b4232b1d"
      },
      "source": [
        "# Assuming md_files is populated from the previous step and categorize_md_file is defined\n",
        "\n",
        "categorized_files = {}\n",
        "\n",
        "for file_path in md_files:\n",
        "    filename = os.path.basename(file_path)\n",
        "    categories = categorize_md_file(filename)\n",
        "    for category in categories:\n",
        "        if category not in categorized_files:\n",
        "            categorized_files[category] = []\n",
        "        categorized_files[category].append(file_path)\n",
        "\n",
        "# Print the categorized files for review\n",
        "for category, files in categorized_files.items():\n",
        "    print(f\"\\nCategory: {category}\")\n",
        "    if files:\n",
        "        for file_path in files:\n",
        "            print(f\"- {file_path}\")\n",
        "    else:\n",
        "        print(\"- No files in this category.\")"
      ],
      "execution_count": 2,
      "outputs": []
    },
    {
      "cell_type": "markdown",
      "source": [
        "# --- Main Plan Execution ---"
      ],
      "metadata": {
        "id": "z_29e-En4PJ3"
      }
    },
    {
      "cell_type": "code",
      "source": [
        "# Step 1: Find and extract the latest Notion export ZIP file (potentially nested)\n",
        "print(\"### Step 1: Locating and Extracting Notion Export ###\")\n",
        "latest_zip = notion_export()\n",
        "if not latest_zip:\n",
        "    print(\"Failed to find a Notion export ZIP file. Exiting.\")\n",
        "    exit()\n",
        "\n",
        "base_extraction_dir = \"/content/notion_extracted_data\"\n",
        "final_extraction_dir = extract_nested_zip(latest_zip, base_extraction_dir)\n",
        "\n",
        "if not final_extraction_dir or not os.path.exists(final_extraction_dir):\n",
        "    print(\"Failed to extract Notion data. Exiting.\")\n",
        "    exit()\n",
        "\n",
        "print(f\"\\nFinal Notion data extracted to: {final_extraction_dir}\")\n",
        "print(\"---\")"
      ],
      "metadata": {
        "colab": {
          "base_uri": "https://localhost:8080/",
          "height": 474
        },
        "id": "QqB8cay34vzY",
        "outputId": "5337610d-fa59-453b-cdf9-28e2758cfcd9"
      },
      "execution_count": 3,
      "outputs": [
        {
          "output_type": "stream",
          "name": "stdout",
          "text": [
            "### Step 1: Locating and Extracting Notion Export ###\n"
          ]
        },
        {
          "output_type": "error",
          "ename": "NameError",
          "evalue": "name 'notion_export' is not defined",
          "traceback": [
            "\u001b[0;31m---------------------------------------------------------------------------\u001b[0m",
            "\u001b[0;31mNameError\u001b[0m                                 Traceback (most recent call last)",
            "\u001b[0;32m/tmp/ipython-input-1029587847.py\u001b[0m in \u001b[0;36m<cell line: 0>\u001b[0;34m()\u001b[0m\n\u001b[1;32m      1\u001b[0m \u001b[0;31m# Step 1: Find and extract the latest Notion export ZIP file (potentially nested)\u001b[0m\u001b[0;34m\u001b[0m\u001b[0;34m\u001b[0m\u001b[0m\n\u001b[1;32m      2\u001b[0m \u001b[0mprint\u001b[0m\u001b[0;34m(\u001b[0m\u001b[0;34m\"### Step 1: Locating and Extracting Notion Export ###\"\u001b[0m\u001b[0;34m)\u001b[0m\u001b[0;34m\u001b[0m\u001b[0;34m\u001b[0m\u001b[0m\n\u001b[0;32m----> 3\u001b[0;31m \u001b[0mlatest_zip\u001b[0m \u001b[0;34m=\u001b[0m \u001b[0mnotion_export\u001b[0m\u001b[0;34m(\u001b[0m\u001b[0;34m)\u001b[0m\u001b[0;34m\u001b[0m\u001b[0;34m\u001b[0m\u001b[0m\n\u001b[0m\u001b[1;32m      4\u001b[0m \u001b[0;32mif\u001b[0m \u001b[0;32mnot\u001b[0m \u001b[0mlatest_zip\u001b[0m\u001b[0;34m:\u001b[0m\u001b[0;34m\u001b[0m\u001b[0;34m\u001b[0m\u001b[0m\n\u001b[1;32m      5\u001b[0m     \u001b[0mprint\u001b[0m\u001b[0;34m(\u001b[0m\u001b[0;34m\"Failed to find a Notion export ZIP file. Exiting.\"\u001b[0m\u001b[0;34m)\u001b[0m\u001b[0;34m\u001b[0m\u001b[0;34m\u001b[0m\u001b[0m\n",
            "\u001b[0;31mNameError\u001b[0m: name 'notion_export' is not defined"
          ]
        }
      ]
    },
    {
      "cell_type": "markdown",
      "source": [
        "## Identify files for removal based on criteria"
      ],
      "metadata": {
        "id": "hnj5Dr14_8ad"
      }
    },
    {
      "cell_type": "code",
      "source": [
        "# -------------------------------\n",
        "# Step 2: Identify files for removal based on criteria\n",
        "# -------------------------------\n",
        "print(\"### Step 2: Identifying Files for Deletion ###\")\n",
        "\n",
        "specific_files_to_remove = [\n",
        "    'Blockchain articles 1c36566cd850809cb130c33224cd2edf.md',\n",
        "    'AI in Talent Acquisition Beyond the Buzzwords to B 1fb6566cd85080559b9eeb0a6daeb481.md',\n",
        "    'Aziz loan payment 2196566cd85080cbab52d1997ea18c7d.md',\n",
        "    'Facebook post 21b6566cd85080259b5ae7e937d9a3cd.md',\n",
        "    '🛡️ Managing Reactions to Sensitive Social Media Ad 2066566cd850809ca4adc083ba40a19b.md',\n",
        "    'প্রজেক্ট আশা 1da6566cd8508059ab3ce5f854f9a42a.md' # Using full filename for exact match\n",
        "]\n",
        "\n",
        "image_extensions = ['.jpg', '.jpeg', '.png', '.gif', '.bmp', '.tiff', '.webp', '.svg']\n",
        "video_extensions = ['.mp4', '.avi', '.mov', '.wmv', '.flv', '.mkv', '.webm']\n",
        "\n",
        "files_to_delete = set()\n",
        "all_md_files_before_deletion = get_md_files(final_extraction_dir)\n",
        "\n",
        "# Identify files to delete by name and type\n",
        "for root, _, files in os.walk(final_extraction_dir):\n",
        "    for file in files:\n",
        "        file_path = os.path.join(root, file)\n",
        "        filename_only = os.path.basename(file_path)\n",
        "        file_extension = os.path.splitext(file)[1].lower()\n",
        "\n",
        "        if filename_only in specific_files_to_remove:\n",
        "            files_to_delete.add(file_path)\n",
        "        elif file_extension in image_extensions or file_extension in video_extensions:\n",
        "            files_to_delete.add(file_path)\n",
        "        elif not file.endswith(\".md\"): # Delete all non-md files except images/videos already covered\n",
        "            files_to_delete.add(file_path)\n",
        "\n",
        "# Identify .md files in 'personal/account related' and 'project/work related' categories for deletion\n",
        "for file_path in all_md_files_before_deletion:\n",
        "    filename = os.path.basename(file_path)\n",
        "    categories = categorize_md_file(filename)\n",
        "    if 'personal/account related' in categories or 'project/work related' in categories:\n",
        "        files_to_delete.add(file_path)\n",
        "\n",
        "print(\"\\n--- Proposed Deletion Plan ---\")\n",
        "print(\"The following files and types will be removed:\")\n",
        "print(\"  - All image files (extensions: .jpg, .jpeg, .png, .gif, .bmp, .tiff, .webp, .svg)\")\n",
        "print(\"  - All video files (extensions: .mp4, .avi, .mov, .wmv, .flv, .mkv, .webm)\")\n",
        "print(\"  - Any file that is not an .md file (unless it's an image/video already listed).\")\n",
        "print(\"  - Specific markdown files:\")\n",
        "for f in specific_files_to_remove:\n",
        "    print(f\"    - {f}\")\n",
        "print(\"  - All .md files categorized as 'personal/account related' or 'project/work related'.\")\n",
        "\n",
        "print(\"\\nList of individual files identified for deletion:\")\n",
        "if files_to_delete:\n",
        "    for f in sorted(list(files_to_delete)):\n",
        "        print(f\"  - {f.replace(final_extraction_dir, '')}\")\n",
        "else:\n",
        "    print(\"  - No additional individual files identified for deletion based on the criteria.\")\n",
        "print(\"---\")"
      ],
      "metadata": {
        "colab": {
          "base_uri": "https://localhost:8080/",
          "height": 422
        },
        "id": "WaZtayD44_MN",
        "outputId": "8a460ebe-cef6-4e30-94c9-12932058a483"
      },
      "execution_count": 4,
      "outputs": [
        {
          "output_type": "stream",
          "name": "stdout",
          "text": [
            "### Step 2: Identifying Files for Deletion ###\n"
          ]
        },
        {
          "output_type": "error",
          "ename": "NameError",
          "evalue": "name 'final_extraction_dir' is not defined",
          "traceback": [
            "\u001b[0;31m---------------------------------------------------------------------------\u001b[0m",
            "\u001b[0;31mNameError\u001b[0m                                 Traceback (most recent call last)",
            "\u001b[0;32m/tmp/ipython-input-3789316071.py\u001b[0m in \u001b[0;36m<cell line: 0>\u001b[0;34m()\u001b[0m\n\u001b[1;32m     17\u001b[0m \u001b[0;34m\u001b[0m\u001b[0m\n\u001b[1;32m     18\u001b[0m \u001b[0mfiles_to_delete\u001b[0m \u001b[0;34m=\u001b[0m \u001b[0mset\u001b[0m\u001b[0;34m(\u001b[0m\u001b[0;34m)\u001b[0m\u001b[0;34m\u001b[0m\u001b[0;34m\u001b[0m\u001b[0m\n\u001b[0;32m---> 19\u001b[0;31m \u001b[0mall_md_files_before_deletion\u001b[0m \u001b[0;34m=\u001b[0m \u001b[0mget_md_files\u001b[0m\u001b[0;34m(\u001b[0m\u001b[0mfinal_extraction_dir\u001b[0m\u001b[0;34m)\u001b[0m\u001b[0;34m\u001b[0m\u001b[0;34m\u001b[0m\u001b[0m\n\u001b[0m\u001b[1;32m     20\u001b[0m \u001b[0;34m\u001b[0m\u001b[0m\n\u001b[1;32m     21\u001b[0m \u001b[0;31m# Identify files to delete by name and type\u001b[0m\u001b[0;34m\u001b[0m\u001b[0;34m\u001b[0m\u001b[0m\n",
            "\u001b[0;31mNameError\u001b[0m: name 'final_extraction_dir' is not defined"
          ]
        }
      ]
    },
    {
      "cell_type": "markdown",
      "source": [
        "## Step 3: Execute Deletion"
      ],
      "metadata": {
        "id": "BhT17PNCARuG"
      }
    },
    {
      "cell_type": "code",
      "source": [
        "user_confirmation = input(\"\\nDo you review this deletion plan and confirm to proceed? (yes/no): \").lower()\n",
        "\n",
        "if user_confirmation == 'yes':\n",
        "    print(\"\\n### Step 3: Executing Deletion ###\")\n",
        "    deleted_count = 0\n",
        "    for file_path in files_to_delete:\n",
        "        try:\n",
        "            os.remove(file_path)\n",
        "            deleted_count += 1\n",
        "            # print(f\"Deleted: {file_path.replace(final_extraction_dir, '')}\")\n",
        "        except OSError as e:\n",
        "            print(f\"Error deleting {file_path.replace(final_extraction_dir, '')}: {e}\")\n",
        "    print(f\"Successfully deleted {deleted_count} files.\")\n",
        "    print(\"---\")"
      ],
      "metadata": {
        "colab": {
          "base_uri": "https://localhost:8080/"
        },
        "id": "SBSO3cxVAIpB",
        "outputId": "06f87d23-46d9-455a-ab67-771733674200"
      },
      "execution_count": null,
      "outputs": [
        {
          "output_type": "stream",
          "name": "stdout",
          "text": [
            "\n",
            "Do you review this deletion plan and confirm to proceed? (yes/no): yes\n",
            "\n",
            "### Step 3: Executing Deletion ###\n",
            "Successfully deleted 360 files.\n",
            "---\n"
          ]
        }
      ]
    },
    {
      "cell_type": "markdown",
      "source": [
        "##"
      ],
      "metadata": {
        "id": "Vdn-sD2QAlL4"
      }
    },
    {
      "cell_type": "markdown",
      "source": [
        "## Categorize remaining .md files"
      ],
      "metadata": {
        "id": "rFcm-5ueAlvQ"
      }
    },
    {
      "cell_type": "code",
      "source": [
        "print(\"\\n### Step 4: Categorizing Remaining .md Files ###\")\n",
        "remaining_md_files = get_md_files(final_extraction_dir)\n",
        "categorized_final_md_files = {\n",
        "    'legal/case related': [],\n",
        "    'communication/social media related': [],\n",
        "    'calendar/event related': [],\n",
        "    'bihari community': [],\n",
        "    'miscellaneous': []\n",
        "}\n",
        "\n",
        "for file_path in remaining_md_files:\n",
        "    if file_path not in files_to_delete: # Only categorize if the file was NOT deleted\n",
        "        filename = os.path.basename(file_path)\n",
        "        categories = categorize_md_file(filename)\n",
        "        for category in categories:\n",
        "            # Only add to categories we want to keep\n",
        "            if category in categorized_final_md_files:\n",
        "                categorized_final_md_files[category].append(file_path)\n",
        "            elif category not in ['personal/account related', 'project/work related']:\n",
        "                # If a file doesn't fit explicit categories, and isn't one we removed, put in miscellaneous\n",
        "                if 'miscellaneous' not in categorized_final_md_files:\n",
        "                    categorized_final_md_files['miscellaneous'] = []\n",
        "                categorized_final_md_files['miscellaneous'].append(file_path)\n",
        "\n",
        "\n",
        "print(\"\\n--- Final Categorization of .md Files ---\")\n",
        "for category, files in categorized_final_md_files.items():\n",
        "    if files:\n",
        "        print(f\"\\nCategory: {category} ({len(files)} files)\")\n",
        "        for file_path in sorted(files):\n",
        "            print(f\"  - {os.path.basename(file_path)}\")\n",
        "    else:\n",
        "        print(f\"\\nCategory: {category} (0 files)\")\n",
        "print(\"---\")"
      ],
      "metadata": {
        "colab": {
          "base_uri": "https://localhost:8080/",
          "height": 508
        },
        "id": "mtIzs81ZAbJm",
        "outputId": "d4d79ab6-5b84-47fb-8b4e-6883df85479c"
      },
      "execution_count": 5,
      "outputs": [
        {
          "output_type": "stream",
          "name": "stdout",
          "text": [
            "\n",
            "### Step 4: Categorizing Remaining .md Files ###\n"
          ]
        },
        {
          "output_type": "error",
          "ename": "NameError",
          "evalue": "name 'final_extraction_dir' is not defined",
          "traceback": [
            "\u001b[0;31m---------------------------------------------------------------------------\u001b[0m",
            "\u001b[0;31mNameError\u001b[0m                                 Traceback (most recent call last)",
            "\u001b[0;32m/tmp/ipython-input-836555053.py\u001b[0m in \u001b[0;36m<cell line: 0>\u001b[0;34m()\u001b[0m\n\u001b[1;32m      1\u001b[0m \u001b[0mprint\u001b[0m\u001b[0;34m(\u001b[0m\u001b[0;34m\"\\n### Step 4: Categorizing Remaining .md Files ###\"\u001b[0m\u001b[0;34m)\u001b[0m\u001b[0;34m\u001b[0m\u001b[0;34m\u001b[0m\u001b[0m\n\u001b[0;32m----> 2\u001b[0;31m \u001b[0mremaining_md_files\u001b[0m \u001b[0;34m=\u001b[0m \u001b[0mget_md_files\u001b[0m\u001b[0;34m(\u001b[0m\u001b[0mfinal_extraction_dir\u001b[0m\u001b[0;34m)\u001b[0m\u001b[0;34m\u001b[0m\u001b[0;34m\u001b[0m\u001b[0m\n\u001b[0m\u001b[1;32m      3\u001b[0m categorized_final_md_files = {\n\u001b[1;32m      4\u001b[0m     \u001b[0;34m'legal/case related'\u001b[0m\u001b[0;34m:\u001b[0m \u001b[0;34m[\u001b[0m\u001b[0;34m]\u001b[0m\u001b[0;34m,\u001b[0m\u001b[0;34m\u001b[0m\u001b[0;34m\u001b[0m\u001b[0m\n\u001b[1;32m      5\u001b[0m     \u001b[0;34m'communication/social media related'\u001b[0m\u001b[0;34m:\u001b[0m \u001b[0;34m[\u001b[0m\u001b[0;34m]\u001b[0m\u001b[0;34m,\u001b[0m\u001b[0;34m\u001b[0m\u001b[0;34m\u001b[0m\u001b[0m\n",
            "\u001b[0;31mNameError\u001b[0m: name 'final_extraction_dir' is not defined"
          ]
        }
      ]
    },
    {
      "cell_type": "markdown",
      "metadata": {
        "id": "5da9b0c6"
      },
      "source": [
        "**TODO**: Manually review the files in the 'miscellaneous' category and assign them to appropriate categories or create new ones if necessary."
      ]
    }
  ]
}